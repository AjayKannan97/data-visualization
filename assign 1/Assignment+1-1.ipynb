{
 "cells": [
  {
   "cell_type": "markdown",
   "metadata": {},
   "source": [
    "# Assignment 1: Dino Fun World\n",
    "\n",
    "You, in your role as a burgeoning data explorer and visualizer, have been asked by the administrators of a small amusement park in your hometown to answer a couple questions about their park operations. In order to perform the requested analysis, they have provided you with a database containing information about one day of the park's operations.\n",
    "\n",
    "### Provided Database\n",
    "\n",
    "The database provided by the park administration is formatted to be readable by any SQL database library. The course staff recommends the sqlite3 library. The database contains three tables, named 'checkins', 'attractions', and 'sequences'. The information contained in each of these tables is listed below:\n",
    "\n",
    "`checkins`:\n",
    "    - Description: check-in data for all visitors for the day in the park. The data includes two types of check-ins, inferred and actual checkins.\n",
    "    - Fields: visitorID, timestamp, attraction, duration, type\n",
    "`attraction`:\n",
    "    - The attractions in the park by their corresponding AttractionID, Name, Region, Category, and type. Regions are from the VAST Challenge map such as Coaster Alley, Tundra Land, etc. Categories include Thrill rides, Kiddie Rides, etc. Type is broken into Outdoor Coaster, Other Ride, Carussel, etc.\n",
    "    - Fields: AttractionID, Name, Region, Category, type\n",
    "`sequences`:\n",
    "    - The check-in sequences of visitors. These sequences list the position of each visitor to the park every five minutes. If the visitor has not entered the part yet, the sequence has a value of 0 for that time interval. If the visitor is in the park, the sequence lists the attraction they have most recently checked in to until they check in to a new one or leave the park.\n",
    "    - Fields: visitorID, sequence\n",
    "    \n",
    "The database is named 'dinofunworld.db' and is located in the 'readonly' directory of the Jupyter Notebook environment. It can be accessed at 'readonly/dinofunworld.db'.\n",
    "\n",
    "### Questions to Answer\n",
    "\n",
    "The administrators would like you to answer four relatively simple questions about the park activities on the day in question. These questions all deal with park operations and can be answered using the data provided.\n",
    "\n",
    "Question 1: What is the most popular attraction to visit in the park?\n",
    "Question 2: What ride (note that not all attractions are rides) has the longest visit time?\n",
    "Question 3: Which Fast Food offering has the fewest visitors?\n",
    "Question 4: Compute the Skyline of number of visits and visit time for the park's ride and report the rides that appear in the Skyline.\n",
    "\n",
    "#### Administrative Notes\n",
    "\n",
    "This assignment will be graded by Coursera's grading system. In order for your answers to be correctly registered in the system, you must place the code for your answers in the cell indicated for each question. In addition, you should submit the assignment with the output of the code in the cell's display area. The display area should contain only your answer to the question with no extraneous information, or else the answer may not be picked up correctly. Each cell that is going to be graded has a set of comment lines at the beginning of the cell. These lines are extremely important and must not be modified or removed."
   ]
  },
  {
   "cell_type": "code",
   "execution_count": 460,
   "metadata": {},
   "outputs": [],
   "source": [
    "import sqlite3\n",
    "from time import time \n",
    "from datetime import datetime\n",
    "import re \n",
    "from paretoset import paretoset\n",
    "\n",
    "from datetime import datetime\n",
    "def getsecs(time):\n",
    "    t = time.split(':')\n",
    "    \n",
    "    hrs = int(t[0])\n",
    "    mins = int(t[1])\n",
    "    sec = (t[2])\n",
    "    sec = int(sec[0:2])\n",
    "    \n",
    "    return sec + mins*60 + hrs*3600"
   ]
  },
  {
   "cell_type": "code",
   "execution_count": 461,
   "metadata": {},
   "outputs": [
    {
     "data": {
      "text/plain": [
       "84886"
      ]
     },
     "execution_count": 461,
     "metadata": {},
     "output_type": "execute_result"
    }
   ],
   "source": [
    "getsecs('23:34:46@SD')"
   ]
  },
  {
   "cell_type": "code",
   "execution_count": 462,
   "metadata": {
    "scrolled": false
   },
   "outputs": [
    {
     "name": "stdout",
     "output_type": "stream",
     "text": [
      "Atmosfear\n"
     ]
    }
   ],
   "source": [
    "# Graded Cell\n",
    "# PartID:  NDnou\n",
    "# Question 1: What is the most popular attraction to visit in the park?\n",
    "# Notes: Your output should be the name of the attraction.\n",
    "\n",
    "dino_file = 'dinofunworld.db'\n",
    "connec = sqlite3.connect(dino_file)\n",
    "c = connec.cursor()\n",
    "\n",
    "c.execute(\" SELECT attraction,count(attraction) from checkin GROUP BY attraction \")\n",
    "dic = c.fetchall()\n",
    "temp = 0\n",
    "pos = 0\n",
    "for i in dic:\n",
    "    if i[1] >= temp:\n",
    "        pos = i[0]\n",
    "        temp = i[1]\n",
    "#print(pos)\n",
    "c.execute(\" select name from attraction where attractionID = ?\",(pos,))\n",
    "print(c.fetchall()[0][0])\n",
    "\n"
   ]
  },
  {
   "cell_type": "code",
   "execution_count": 463,
   "metadata": {},
   "outputs": [
    {
     "name": "stdout",
     "output_type": "stream",
     "text": [
      "TerrorSaur\n"
     ]
    }
   ],
   "source": [
    "# Graded Cell\n",
    "# PartID: FXGHp\n",
    "# Question 2: What ride (note that not all attractions are rides) has the longest average visit time?\n",
    "# Notes: Your output should be the name of the ride.\n",
    "\n",
    "#for row in c.execute(\"select attraction from (Select attraction,max(duration) from checkin)\"):\n",
    "\n",
    "query1 = 'select * from checkin'\n",
    "query2 = 'select DISTINCT(category) from attraction where AttractionID = '\n",
    "query3 = 'select name from attraction where AttractionID = '\n",
    "r = 'Rides'\n",
    "c.execute(query1)\n",
    "#print(c.fetchall())\n",
    "checkins = c.fetchall()\n",
    "r_count = {}\n",
    "r_dur = {}\n",
    "\n",
    "for i in checkins:\n",
    "    if((i[4])):\n",
    "        c.execute(query2 + str(i[3]))\n",
    "        category = c.fetchall()\n",
    "        #print(category[0][0])\n",
    "        if r in category[0][0]:\n",
    "            #print(category[0][0])\n",
    "            r_count.setdefault(i[3],0)\n",
    "            r_count[i[3]] += 1\n",
    "            r_dur.setdefault(i[3],0)\n",
    "            t = getsecs(i[4])\n",
    "            r_dur[i[3]] += t\n",
    "            #print(r_dur[i[3]])\n",
    "\n",
    "av = -1\n",
    "rid = -1\n",
    "#print(r_dur)\n",
    "for i in r_count:\n",
    "    avt = r_dur[i] / r_count[i]\n",
    "    if avt > av:\n",
    "        rid = i\n",
    "        av = avt\n",
    "#print(rid)        \n",
    "c.execute(query3 + str(rid))\n",
    "result = c.fetchall()\n",
    "print(result[0][0])"
   ]
  },
  {
   "cell_type": "code",
   "execution_count": 464,
   "metadata": {},
   "outputs": [
    {
     "name": "stdout",
     "output_type": "stream",
     "text": [
      "Theresaur Food Stop\n"
     ]
    }
   ],
   "source": [
    "# Graded Cell\n",
    "# PartID: KALua\n",
    "# Question 3: Which Fast Food offering in the park has the fewest visitors?\n",
    "# Notes: Your output should be the name of the fast food offering.\n",
    "\n",
    "ff = pd.read_sql_query('''\n",
    "Select Name,count(name) from\n",
    "(select a.attractionID,b.visitorid,a.name FROM checkin as b\n",
    "INNER JOIN attraction as a\n",
    "on (b.attraction = a.attractionID\n",
    "and\n",
    "a.type = 'Fast Food'\n",
    ")) GROUP BY Name''',connec)\n",
    "ff1 = pd.DataFrame(ff) #seq\n",
    "print(ff1.iloc[-1][0])"
   ]
  },
  {
   "cell_type": "code",
   "execution_count": 467,
   "metadata": {},
   "outputs": [
    {
     "data": {
      "text/plain": [
       "['Keimosaurus Big Spin',\n",
       " 'Galactosaurus Rage',\n",
       " 'Wrightiraptor Mountain',\n",
       " 'Atmosfear',\n",
       " 'Dykesadactyl Thrill']"
      ]
     },
     "execution_count": 467,
     "metadata": {},
     "output_type": "execute_result"
    }
   ],
   "source": [
    "# Graded Cell\n",
    "# PartID: B0LUP\n",
    "# Question 4: Compute the Skyline of number of visits and visit time for the park's ride and \n",
    "#  report the rides that appear in the Skyline. \n",
    "# Notes: Remember that in this case, higher visits is better and lower visit times are better. \n",
    "#  Your output should be formatted as an array listing the names of the rides in the Skyline.\n",
    "\n",
    "query1 = 'select * from checkin'\n",
    "query2 = 'select DISTINCT(category) from attraction where AttractionID = '\n",
    "query3 = 'select name from attraction where AttractionID = '\n",
    "r = 'Rides'\n",
    "d = []\n",
    "rides = []\n",
    "c.execute(query1)\n",
    "#print(c.fetchall())\n",
    "checkins = c.fetchall()\n",
    "r_count = {}\n",
    "r_dur = {}\n",
    "\n",
    "for i in checkins:\n",
    "    if((i[4])):\n",
    "        c.execute(query2 + str(i[3]))\n",
    "        category = c.fetchall()\n",
    "        #print(category[0][0])\n",
    "        if r in category[0][0]:\n",
    "            #print(category[0][0])\n",
    "            r_count.setdefault(i[3],0)\n",
    "            r_count[i[3]] += 1\n",
    "            r_dur.setdefault(i[3],0)\n",
    "            t = getsecs(i[4])\n",
    "            r_dur[i[3]] += t\n",
    "        \n",
    "for i in r_count:\n",
    "    d.append((r_count[i],r_dur[i]/r_count[i]))\n",
    "    rides.append((i))\n",
    "    \n",
    "dd = pd.DataFrame(d,columns=['Visitors','Tim'])\n",
    "dr = pd.DataFrame(rides,columns=['r_id'])\n",
    "#print(dr)\n",
    "#print(dd)\n",
    "a = paretoset(dd,sense=['max','min'])\n",
    "par = dd[a].index.to_list()\n",
    "\n",
    "res = []\n",
    "\n",
    "for i in par:\n",
    "    j = str(dr.iloc[i][0])\n",
    "    c.execute(query3 + j)\n",
    "    att = c.fetchall()\n",
    "    res.append(att[0][0])\n",
    "    \n",
    "res"
   ]
  },
  {
   "cell_type": "code",
   "execution_count": 401,
   "metadata": {},
   "outputs": [],
   "source": []
  },
  {
   "cell_type": "code",
   "execution_count": null,
   "metadata": {},
   "outputs": [],
   "source": []
  },
  {
   "cell_type": "code",
   "execution_count": null,
   "metadata": {},
   "outputs": [],
   "source": []
  }
 ],
 "metadata": {
  "kernelspec": {
   "display_name": "Python 3",
   "language": "python",
   "name": "python3"
  },
  "language_info": {
   "codemirror_mode": {
    "name": "ipython",
    "version": 3
   },
   "file_extension": ".py",
   "mimetype": "text/x-python",
   "name": "python",
   "nbconvert_exporter": "python",
   "pygments_lexer": "ipython3",
   "version": "3.8.3"
  }
 },
 "nbformat": 4,
 "nbformat_minor": 2
}
